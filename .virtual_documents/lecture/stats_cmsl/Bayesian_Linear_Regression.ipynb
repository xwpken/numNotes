





import numpy as np
import matplotlib.pyplot as plt
from scipy.stats import multivariate_normal, norm

np.random.seed(42)

# generate observed data
true_w = np.array([1.5, -0.8])  
true_sigma = 0.5  

N = 100  
X = np.column_stack([np.ones(N), np.random.randn(N, 1)])  
y = X @ true_w + np.random.normal(0, true_sigma, N)  

plt.scatter(X[:, 1], y, alpha=0.7, label="Observed")
plt.xlabel("x"), plt.ylabel(" y")
plt.legend()
plt.show()





# Piror of w
alpha = 1.0  # inverse variance
mu_prior = np.zeros(2)  # piror mu of [w0, w1]
Sigma_prior = (1/alpha) * np.eye(2)  # covariance matrix

# Post
Sigma_inv = np.linalg.inv(Sigma_prior) + (1/true_sigma**2) * X.T @ X
Sigma_posterior = np.linalg.inv(Sigma_inv)
mu_posterior = Sigma_posterior @ (Sigma_inv @ mu_prior + (1/true_sigma**2) * X.T @ y)

print(f"Post mu: {mu_posterior}")
print(f"Post sigma:\n{Sigma_posterior}")

# 绘制后验权重分布
w0_samples = np.random.normal(mu_posterior[0], np.sqrt(Sigma_posterior[0, 0]), 1000)
w1_samples = np.random.normal(mu_posterior[1], np.sqrt(Sigma_posterior[1, 1]), 1000)

plt.figure(figsize=(10, 4))
plt.subplot(1, 2, 1)
plt.hist(w0_samples, bins=30, density=True, alpha=0.7)
plt.title("PDF of w0")
plt.subplot(1, 2, 2)
plt.hist(w1_samples, bins=30, density=True, alpha=0.7)
plt.title("PDF of w1")
plt.show()
