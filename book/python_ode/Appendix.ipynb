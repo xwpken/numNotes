{
 "cells": [
  {
   "cell_type": "markdown",
   "id": "99a61852",
   "metadata": {},
   "source": [
    "# Appendix"
   ]
  },
  {
   "cell_type": "markdown",
   "id": "b4a321e7",
   "metadata": {},
   "source": [
    "*Editor: Weipeng Xu*\n",
    "\n",
    "*Last modified: 24/06/2025*\n",
    "\n",
    "*Reference: Sundnes, Joakim. Solving Ordinary Differential Equations in Python. Springer Nature, 2024.*"
   ]
  },
  {
   "cell_type": "markdown",
   "id": "7e9b6cb0",
   "metadata": {},
   "source": [
    "## Programming of difference equations"
   ]
  },
  {
   "cell_type": "markdown",
   "id": "710791fb",
   "metadata": {
    "vscode": {
     "languageId": "plaintext"
    }
   },
   "source": [
    "A sequence is simply a collection of numbers:\n",
    "$$\n",
    "x_0, x_1, x_2,\\cdots, x_n,\\cdots\n",
    "$$\n",
    "For certain sequence, we can write the complete sequence in a compact form, for example:\n",
    "$$\n",
    "\\begin{aligned}\n",
    "&(x_n)^{\\infty}_{n=0},\\quad x_n = 2n+1\\\\\n",
    "&(x_n)^{\\infty}_{n=0},\\quad x_n = n!\\\\\n",
    "&(x_n)^{\\infty}_{n=0},\\quad x_n = \\sum_{j=0}^n\\frac{x^j}{j!}\\\\\n",
    "\\end{aligned}\n",
    "$$\n",
    "In real-life applications, sequences are usually **finite**, i.e., $(x_n)_{n=0}^N$. We usually **difference equations** to define the sequence, which defines $x_n$ by a relation involving $x_{n-1}$ and possibly earlier terms."
   ]
  },
  {
   "cell_type": "markdown",
   "id": "4e58b3f5",
   "metadata": {},
   "source": [
    "## More examples of difference equations"
   ]
  },
  {
   "cell_type": "markdown",
   "id": "8b4bd1af",
   "metadata": {},
   "source": [
    "* Fibonacci numbers (2-nd order difference equation)\n",
    "$$\n",
    "x_n = x_{n-1} + x_{n-2},\\quad x_0=x_1=1\n",
    "$$\n",
    "\n",
    "\n",
    "* Logistic growth (nonlinear difference equation)\n",
    "  \n",
    "$$\n",
    "x_n = x_{n-1} + \\frac{\\rho}{100}x_{n-1}(1-\\frac{x_{n-1}}{R})\n",
    "$$\n",
    "\n",
    "* Factorial\n",
    "$$\n",
    "x_n = nx_{n-1},\\quad x_0=1\n",
    "$$\n",
    "\n",
    "* Newton's method\n",
    "$$\n",
    "x_n = x_{n-1} - \\frac{f(x_{n-1})}{f^{\\prime}(x_{n-1})}\n",
    "$$"
   ]
  },
  {
   "cell_type": "code",
   "execution_count": 5,
   "id": "59258684",
   "metadata": {},
   "outputs": [],
   "source": [
    "def Newton(f, dfdx, x, epsilon=1e-7, max_n=100):\n",
    "    n = 0\n",
    "    while abs(f(x)) > epsilon and n <= max_n:\n",
    "        x = x - f(x) /dfdx(x)\n",
    "        n += 1\n",
    "    return x, n, f(x)"
   ]
  },
  {
   "cell_type": "markdown",
   "id": "cec34d5c",
   "metadata": {},
   "source": [
    "## Systems of difference equations"
   ]
  },
  {
   "cell_type": "markdown",
   "id": "d396e564",
   "metadata": {},
   "source": [
    "The growth of two species, a predator and a prey, in the same ecosystem can be described by:\n",
    "* Lotke-Volterra model\n",
    "$$\n",
    "\\begin{aligned}\n",
    "&x_n = x_{n-1} + ax_{n-1} - bx_{n-1}y_{n-1}\\\\\n",
    "&y_n = y_{n-1} + dbx_{n-1}y_{n-1}-cy_{n-1}\n",
    "\\end{aligned}\n",
    "$$\n",
    "where $a$ is the natural growth rate of the prey in the absence of predators, $b$ is the death rate of prey per encounter of prey and predator, $c$ is the natural death rate of predators in the absence of food (prey), and $d$ is the efficiency of turning predated prey into predators."
   ]
  },
  {
   "cell_type": "markdown",
   "id": "66654828",
   "metadata": {},
   "source": [
    "## Taylor Series and Approximations"
   ]
  },
  {
   "cell_type": "markdown",
   "id": "4c2ceb67",
   "metadata": {},
   "source": [
    "Polynomial approximations have been used for centuries to compute exponentials, trigonometric functions and others. The most famous one is the Taylor series:\n",
    "$$\n",
    "\\begin{aligned}\n",
    "f(x) &= \\sum_{k=0}^{\\infty}\\frac{1}{k!}(\\frac{d^kf(0)}{dx^k})x^k\\\\\n",
    "&=f(0) + f^{\\prime}(0)x + \\frac{1}{2}f^{\\prime\\prime}(0)x^2 + \\frac{1}{6}f^{\\prime\\prime\\prime}(0)x^3+\\cdots\n",
    "\\end{aligned}\n",
    "$$\n",
    "For example:\n",
    "$$\n",
    "\\begin{aligned}\n",
    "&e^x = \\sum_{k=0}^{\\infty}\\frac{x^k}{k!}\\\\\n",
    "&\\sin x = \\sum_{k=0}^{\\infty}(-1)^k\\frac{x^{2k+1}}{(2k+1)!}\n",
    "\\end{aligned}\n",
    "$$\n",
    "The approximation accuracy will improve as $N$ is increased. We usually truncate the series to $N$, and we can also shift the variables:\n",
    "$$\n",
    "f(x)\\approx\\sum_{k=0}^N\\frac{1}{k!}(\\frac{d^kf(a)}{dx^k})(x-a)^k\n",
    "$$\n",
    "The most popular choice is $N=1$, which provides a reasonable approximation close to $x=0$."
   ]
  },
  {
   "cell_type": "markdown",
   "id": "1bac59c4",
   "metadata": {},
   "source": [
    "We can reformulate the taylor series for $e^x$ around $0$ with $n$ terms \n",
    "$$\n",
    "e_n = \\sum_{k=0}^{n-1}\\frac{x^k}{k!}=\\sum_{k=0}^{n-2}\\frac{x^k}{k!} + \\frac{x^{n-1}}{(n-1)!}\n",
    "$$\n",
    "as a difference equation\n",
    "$$\n",
    "e_n = e_{n-1} + \\frac{x^{n-1}}{(n-1)!},\\quad e_0=0\n",
    "$$\n",
    "To avoid the repeated multiplications, we can design the following difference system:\n",
    "$$\n",
    "\\begin{aligned}\n",
    "    &e_n = e_{n-1} + a_{n-1},\\quad e_0=0\\\\\n",
    "    &a_n = \\frac{x}{n}a_{n-1},\\quad a_0=1\n",
    "\\end{aligned}\n",
    "$$"
   ]
  },
  {
   "cell_type": "code",
   "execution_count": 6,
   "id": "44939db9",
   "metadata": {},
   "outputs": [
    {
     "name": "stdout",
     "output_type": "stream",
     "text": [
      "Exact: exp(0.5) = 1.64872\n",
      "n = 1, appr. = 1.00000, e = 0.64872\n",
      "n = 2, appr. = 1.50000, e = 0.14872\n",
      "n = 3, appr. = 1.62500, e = 0.02372\n",
      "n = 4, appr. = 1.64583, e = 0.00289\n",
      "n = 5, appr. = 1.64844, e = 0.00028\n"
     ]
    }
   ],
   "source": [
    "import numpy as onp\n",
    "\n",
    "x = 0.5\n",
    "N = 5\n",
    "index_set = range(N + 1)\n",
    "a = onp.zeros(len(index_set))\n",
    "e = onp.zeros(len(index_set))\n",
    "a[0] = 1\n",
    "\n",
    "print(f'Exact: exp({x}) = {onp.exp(x):4.5f}')\n",
    "for n in index_set[1:]:\n",
    "    e[n] = e[n-1] + a[n-1]\n",
    "    a[n] = x / n * a[n-1]\n",
    "    print(f'n = {n}, appr. = {e[n]:4.5f}, e = {onp.abs(e[n]-onp.exp(x)):4.5f}')"
   ]
  }
 ],
 "metadata": {
  "kernelspec": {
   "display_name": "jax-fem-env",
   "language": "python",
   "name": "python3"
  },
  "language_info": {
   "codemirror_mode": {
    "name": "ipython",
    "version": 3
   },
   "file_extension": ".py",
   "mimetype": "text/x-python",
   "name": "python",
   "nbconvert_exporter": "python",
   "pygments_lexer": "ipython3",
   "version": "3.9.18"
  }
 },
 "nbformat": 4,
 "nbformat_minor": 5
}
