{
 "cells": [
  {
   "cell_type": "markdown",
   "id": "ec5e03b5",
   "metadata": {},
   "source": [
    "# Chapter 3 Stable Solvers for Stiff ODE Systems"
   ]
  },
  {
   "cell_type": "markdown",
   "id": "c0b3d5d1",
   "metadata": {},
   "source": [
    "*Editor: Weipeng Xu*\n",
    "\n",
    "*Last modified: 13/06/2025*\n",
    "\n",
    "*Reference: Sundnes, Joakim. Solving Ordinary Differential Equations in Python. Springer Nature, 2024.*"
   ]
  },
  {
   "cell_type": "markdown",
   "id": "3c36f03b",
   "metadata": {},
   "source": [
    "## Stiff ODE Systems and Stability"
   ]
  },
  {
   "cell_type": "markdown",
   "id": "bb77d308",
   "metadata": {},
   "source": [
    "We consider a well-known example of a stiff ODE system - **Van der Pol equation**, which can be written as the following IVP:\n",
    "$$\n",
    "\\begin{aligned}\n",
    "&y_1^{\\prime} = y_2\\\\\n",
    "&y_2^{\\prime} = \\mu(1-y_1^2)y_2-y_1\n",
    "\\end{aligned}\n",
    "$$\n",
    "where $\\mu$ represents a constant that deteremines the properties of the system, including its \"stiffness\". For non-zero values of $\\mu$, the solution exhibits far more complex behavior than $\\mu=0$ with a analytical solution $y_1 = \\cos(t)$ and $y_2=\\sin(t)$."
   ]
  },
  {
   "cell_type": "markdown",
   "id": "8d19851a",
   "metadata": {},
   "source": [
    "Consider a simple IVP - Dahlquist test euqation:\n",
    "$$\n",
    "\\begin{aligned}\n",
    "&u^{\\prime} = \\lambda u\\\\\n",
    "&u(0) = 1\n",
    "\\end{aligned}\n",
    "$$\n",
    "where $\\lambda$ can be complex number. The above problem will be stiff on $[0,b]$ if the real part of $\\lambda$ satisfies\n",
    "$$\n",
    "b\\mathcal{R}(\\lambda)\\ll -1\n",
    "$$\n",
    "For more general nonlinear problems, the stiffness of the system is determined by the eigenvalues $\\lambda_i$ of the matrix of partial derivatives of the right-hand side function $f$:\n",
    "$$\n",
    "J_{ij} = \\frac{\\partial f_i(t,y)}{\\partial y_j}\n",
    "$$\n",
    "and the problem is considered stiff for an interval $[0,b]$ if\n",
    "$$\n",
    "b\\min_{i}\\mathcal{R}(\\lambda_i)\\ll-1\n",
    "$$"
   ]
  },
  {
   "cell_type": "markdown",
   "id": "0c036e7a",
   "metadata": {},
   "source": [
    "The Dahlquist equation provides the foundation for **linear stability analysis**. The analytical solution is $u(t) = e^{\\lambda t}$, which is stable if $\\lambda$ has a negative real part. So we focus on the case where $\\mathcal{R}<0$ where our choice of solver may introduce numerical instabilities. The corresponding update formula for each scheme can be expressed as:\n",
    "$$\n",
    "u_{n+1} = R(z)u_n\n",
    "$$\n",
    "where $R(z)$ is the **stability function** or **amplification factor**, which is often written as:\n",
    "$$\n",
    "R(z) = 1+z\n",
    "$$\n",
    "The stability condition is:\n",
    "$$\n",
    "\\vert R(z)\\vert<1\n",
    "$$"
   ]
  },
  {
   "cell_type": "markdown",
   "id": "e3352e1f",
   "metadata": {},
   "source": [
    "For example, the stability function of the Forward Euler method can be written as:\n",
    "$$\n",
    "R(z) = 1 + z = 1+\\lambda\\Delta t\n",
    "$$\n",
    "The stability condition leads to a **region of absolute stability**/**stability region** of $z$, which is a circle with center at $(-1,1)$ and a radius of $1$. It can be seen that if $\\lambda\\ll0$, the requirement for $z = \\lambda\\Delta t$ to lie within this circile is quite restrictive for the choice of $\\Delta t$."
   ]
  },
  {
   "cell_type": "markdown",
   "id": "e44a793c",
   "metadata": {},
   "source": [
    "Similarly, the stability function for the explicit midpoint method can be written as:\n",
    "$$\n",
    "R(z) = 1+z+\\frac{z^2}{2}\n",
    "$$"
   ]
  },
  {
   "cell_type": "markdown",
   "id": "e2a934ee",
   "metadata": {},
   "source": [
    "For the RK4, the stability function is:\n",
    "$$\n",
    "R(z) = 1+z+\\frac{z^2}{2} + \\frac{z^3}{6} + \\frac{z^4}{24}\n",
    "$$"
   ]
  },
  {
   "cell_type": "markdown",
   "id": "daee26f8",
   "metadata": {},
   "source": [
    "It can be shown that the stability function for an $s$-stage explicit RK method is always a ploynomial of degree $\\leq s$, which will never be very large."
   ]
  },
  {
   "cell_type": "markdown",
   "id": "b6a1aa65",
   "metadata": {},
   "source": [
    "## Implicit methods for stability"
   ]
  },
  {
   "cell_type": "markdown",
   "id": "8d988cbb",
   "metadata": {},
   "source": [
    "For $\\lambda$ with a negative real part, two common stability for numerical methods are:\n",
    "* A-stability: $\\vert\\mathcal{R}(z)\\vert\\leq0$ whenever $z<0$ (stability region cover the entire left half of the complex plane)\n",
    "* L-stability: A-stability & stiff decay ($\\vert\\mathcal{R}(z)\\vert\\rightarrow0$ as $z\\rightarrow-\\infty$)\n",
    "\n",
    "As mentioned above, the stability function of an explicit RK method is always a polynomial, which can not satisfy the A-stability condition."
   ]
  },
  {
   "cell_type": "markdown",
   "id": "57531c3c",
   "metadata": {},
   "source": [
    "On the contrary, implicit RK methods demostrate superior stability properties, which are better suited for stiff problems. The simplest implicit RK method is the backward Euler method:\n",
    "$$\n",
    "\\frac{u_{n+1}-u_n}{\\Delta t} = f(t_{n+1},u_{n+1})\n",
    "$$\n",
    "that is\n",
    "$$\n",
    "u_{n+1}-\\Delta tf(t_{n+1},u_{n+1}) = u_n\n",
    "$$\n",
    "For the linear stability analysis, we have:\n",
    "$$\n",
    "u_{n+1}(1-\\Delta t\\lambda) = u_n\n",
    "$$\n",
    "Therefore, the stability function is:\n",
    "$$\n",
    "R(z) = \\frac{1}{1-z}\n",
    "$$\n",
    "where $z=\\Delta t\\lambda$. The stability region ($R(z)<1$) includs all choices for $\\Delta t\\lambda$ outside the circle with a radius of $1$ and centered at $(1,0)$ in the complex plane. Therefore, backward Euler method is both A-stable and L-stable."
   ]
  },
  {
   "cell_type": "markdown",
   "id": "c6363bc6",
   "metadata": {},
   "source": [
    "The backward Euler method can be reformulated to fit into the general RK framework:\n",
    "$$\n",
    "\\begin{array}{c|cc}\n",
    "1 & 1 \\\\ \\hline\n",
    " & 1 \\\\\n",
    "\\end{array}\n",
    "$$\n",
    "i.e.,\n",
    "$$\n",
    "\\begin{aligned}\n",
    "&k_1 = f(t_n + \\Delta t, u_n+\\Delta tk_1)\\\\\n",
    "&u_{n+1} = u_n + \\Delta tk_1\n",
    "\\end{aligned}\n",
    "$$\n"
   ]
  },
  {
   "cell_type": "markdown",
   "id": "bf01708f",
   "metadata": {},
   "source": [
    "The implicit midpoint method is:\n",
    "$$\n",
    "\\begin{array}{c|cc}\n",
    "\\frac{1}{2} & \\frac{1}{2} \\\\ \\hline\n",
    " & 1 \\\\\n",
    "\\end{array}\n",
    "$$\n",
    "i.e.,\n",
    "$$\n",
    "\\begin{aligned}\n",
    "&k_1 = f(t_{n}+\\frac{1}{2}\\Delta t, u_n+\\frac{1}{2}k_1)\\\\\n",
    "&u_{n+1} = u_n + \\Delta tk_1\n",
    "\\end{aligned}\n",
    "$$\n",
    "The implicit trapezoidal rule or Crank-Nicolson method is:\n",
    "$$\n",
    "\\begin{array}{c|cc}\n",
    "0   & 0 & 0 \\\\\n",
    "1   & 0 & 1 \\\\\n",
    "\\hline\n",
    " & \\frac{1}{2} & \\frac{1}{2}  \\\\\n",
    "\\end{array}\n",
    "$$\n",
    "i.e.,\n",
    "$$\n",
    "\\begin{aligned}\n",
    "&k_1 = f(t_n, u_n)\\\\\n",
    "&k_2 = f(t_n + \\Delta t, u_n + \\Delta tk_2)\\\\\n",
    "&u_{n+1} = u_n + \\frac{\\Delta t}{2}(k_1 + k_2)\n",
    "\\end{aligned}\n",
    "$$\n",
    "The implicit midpoint method and the implicit trapezoidal method share the same stability function:\n",
    "$$\n",
    "R(z) = \\frac{2+z}{2-z}\n",
    "$$\n",
    "which stability region covers the entire left half-plane of the complex plane (A-stable). However, they are not L-stable as $\\vert R(z)\\vert\\rightarrow1$ as $z\\rightarrow-\\infty$."
   ]
  },
  {
   "cell_type": "markdown",
   "id": "1f4645f2",
   "metadata": {},
   "source": [
    "In general, the stability function of implicit RK methods are rational functions given by:\n",
    "$$\n",
    "R(z) = \\frac{P(z)}{Q(z)}\n",
    "$$\n",
    "where $P, Q$ are polynomials of degree at most $s$."
   ]
  },
  {
   "cell_type": "markdown",
   "id": "aef775fe",
   "metadata": {},
   "source": [
    "The accuracy of implict methods above can be determined via the Taylor expansion: \n",
    "\n",
    "* Backward Euler method: 1-st order\n",
    "* Implicit midpoint & trapezoidal methods: 2-nd order\n",
    "\n",
    "While explicit RK methods with $s$-stages have an order of accuracy $p\\leq s$, implicit RK methods have higher flexibility in chossing coefficients $a_{ij}$, potentially leading to higher accuracy for a given stage numbers.\n",
    "\n",
    "The maximum order achievable for an implicit RK method is $p=2s$, which is the case for the implict midpoint method with $s=1$ and $p=2$."
   ]
  },
  {
   "cell_type": "markdown",
   "id": "38ef0aab",
   "metadata": {},
   "source": [
    "## Implementing Implicit Runge-Kutta Methods"
   ]
  },
  {
   "cell_type": "markdown",
   "id": "87a13214",
   "metadata": {},
   "source": [
    "In general, explicit solvers are usually more efficient for non-stiff problems, while implicit solvers are primarily suitable for stiff ODEs. The implementation of the backward Euler method is as follows:"
   ]
  },
  {
   "cell_type": "code",
   "execution_count": 1,
   "id": "8026b5e2",
   "metadata": {},
   "outputs": [],
   "source": [
    "import numpy as onp\n",
    "from scipy.optimize import root\n",
    "\n",
    "class ODESolver:\n",
    "\n",
    "    def __init__(self,f):\n",
    "        self.model = f\n",
    "        self.f = lambda t,u: onp.asarray(f(t,u), dtype=float)\n",
    "\n",
    "    def set_initial_condition(self, u0):\n",
    "        self.u0 = onp.asarray(u0, dtype=float)\n",
    "        self.neq = len(u0)\n",
    "\n",
    "    def solve(self, t_span, N):\n",
    "        t0, T = t_span\n",
    "        self.dt = (T-t0)/N\n",
    "        self.t = onp.zeros((N+1, 1))\n",
    "        self.u = onp.zeros((N+1, self.u0.size))\n",
    "\n",
    "        msg = \"Please set initial condition before calling solve\"\n",
    "        assert hasattr(self, \"u0\"), msg\n",
    "\n",
    "        self.t[0] = t0\n",
    "        self.u[0] = self.u0\n",
    "\n",
    "        for n in range(N):\n",
    "            self.n = n\n",
    "            self.t[n+1] = self.t[n] + self.dt\n",
    "            self.u[n+1] = self.advance()\n",
    "        \n",
    "        return self.t, self.u\n",
    "    \n",
    "    def advance(self):\n",
    "        raise NotImplementedError(\"Advance method is not implemented in the based class\")\n",
    "    \n",
    "\n",
    "class ForwardEuler(ODESolver):\n",
    "    def advance(self):\n",
    "        u, f, n, t = self.u, self.f, self.n ,self.t\n",
    "        dt = self.dt\n",
    "        return u[n] + dt * f(t[n], u[n])\n",
    "\n",
    "\n",
    "class BackwardEuler(ODESolver):\n",
    "    def stage_eq(self, k):\n",
    "        u, f, n, t = self.u, self.f, self.n ,self.t\n",
    "        dt = self.dt\n",
    "        return k - f(t[n] + dt, u[n] + dt * k)\n",
    "\n",
    "    def solve_stage(self):\n",
    "        u, f, n, t = self.u, self.f, self.n ,self.t\n",
    "        k0 = f(t[n], u[n])\n",
    "        sol = root(self.stage_eq, k0)\n",
    "        return sol.x\n",
    "    \n",
    "    def advance(self):\n",
    "        u, f, n, t = self.u, self.f, self.n ,self.t\n",
    "        dt = self.dt\n",
    "        k = self.solve_stage()\n",
    "        return u[n] + dt * k"
   ]
  },
  {
   "cell_type": "markdown",
   "id": "1e470a0f",
   "metadata": {},
   "source": [
    "We consider the Van der Pol equation discussed above and compare the numerical solution obatined by SciPy, FE, and BE:"
   ]
  },
  {
   "cell_type": "code",
   "execution_count": 2,
   "id": "d1b1db8c",
   "metadata": {},
   "outputs": [],
   "source": [
    "class VanderPol:\n",
    "    def __init__(self, mu):\n",
    "        self.mu = mu\n",
    "    \n",
    "    def __call__(self, t, u):\n",
    "        du0 = u[1]\n",
    "        du1 = self.mu * (1 - u[0]**2) * u[1] - u[0]\n",
    "        return du0, du1"
   ]
  },
  {
   "cell_type": "code",
   "execution_count": 3,
   "id": "43a71e79",
   "metadata": {},
   "outputs": [
    {
     "data": {
      "image/png": "[encoded data removed]",
      "text/plain": [
       "<Figure size 800x600 with 3 Axes>"
      ]
     },
     "metadata": {},
     "output_type": "display_data"
    }
   ],
   "source": [
    "from scipy.integrate import solve_ivp\n",
    "import matplotlib.pyplot as plt\n",
    "\n",
    "# initialization\n",
    "model = VanderPol(mu=10)\n",
    "solvers = [(ForwardEuler(model), \"Forward Euler\"), \n",
    "           (BackwardEuler(model), \"Backward Euler\")]\n",
    "\n",
    "# setting\n",
    "T = 20\n",
    "t_span = (0, T)\n",
    "u0 = [1, 0]\n",
    "\n",
    "plt.figure(figsize=(8,6))\n",
    "\n",
    "# reference solution\n",
    "rtol = 1e-10\n",
    "solution = solve_ivp(model, t_span, u0, rtol=rtol)\n",
    "plt.subplot(3, 1, 1)\n",
    "plt.plot(solution.t, solution.y[0, :])\n",
    "plt.plot(solution.t, solution.y[1, :])\n",
    "plt.title(\"Reference solution\")\n",
    "\n",
    "# Euler methods\n",
    "for i, info in enumerate(solvers):\n",
    "    solver, name = info\n",
    "    solver.set_initial_condition(u0)\n",
    "    N = 500\n",
    "    t, u = solver.solve(t_span=t_span, N=N)\n",
    "    plt.subplot(3, 1, i+2)\n",
    "    plt.plot(t, u)\n",
    "    plt.title(f\"{name}, $\\\\Delta t$ = {T/N:g}\")\n",
    "plt.tight_layout() \n",
    "plt.show()"
   ]
  },
  {
   "cell_type": "markdown",
   "id": "7d360b41",
   "metadata": {},
   "source": [
    "## Implicit Methods of Higher Order"
   ]
  },
  {
   "cell_type": "markdown",
   "id": "9d5b07e8",
   "metadata": {},
   "source": [
    "The accuracy of implicit RK (IRK) methods  cna also be enhanced by increasing the number of stages. Here we explore two main branches of IRK methods: **fully implicit RK (FIRK) methods** and **diagonally implicit RK (DIRK) methods**."
   ]
  },
  {
   "cell_type": "markdown",
   "id": "b3775bea",
   "metadata": {},
   "source": [
    "Recall that all RK methods can be viewed as the following approximations:\n",
    "$$\n",
    "u(t_{n+1}) = u(t_n) + \\int_{t_n}^{t_{n+1}}f(t,u(t))\\approx u(t_n) + \\Delta t\\sum_{i=1}^sb_ik_i\n",
    "$$ \n",
    "where $b_i$ are the weights and $k_i$ are the stage derivatives:\n",
    "$$\n",
    "k_i = f(t_n + c_i\\Delta t, u_n + \\Delta t\\sum_{j=1}^s a_{ij}k_j),\\quad i=1,\\cdots,s\n",
    "$$\n",
    "The above euqations can be interpreted as approximations of the right-hand side function $f(t,u)$ at distinct time points $t_n + \\Delta tc_i$."
   ]
  },
  {
   "cell_type": "markdown",
   "id": "b2da2485",
   "metadata": {},
   "source": [
    "### Fully Implicit RK Methods"
   ]
  },
  {
   "cell_type": "markdown",
   "id": "a62294ac",
   "metadata": {},
   "source": [
    "For FIRK methods, the coefficients $a_{ij}$ are (potentially) non-zero, which means all stage derivatives depend on all other stage derivatives. So, we need to determine them all at once by solving a singe system of nonlinear equations. For an ODE system comprising $m$ equations, we must solve a system of $ms$ nonlinear euqations for each time step."
   ]
  },
  {
   "cell_type": "markdown",
   "id": "d3d56059",
   "metadata": {},
   "source": [
    "Many popular FIRK methods are based on combining standard **numerical integration quadrature methods** with the idea of **collocation**. We approximate the solution $u$ on the interval $t_n<t\\leq t_{n+1}$ using a polynomial $P(t)$ of degree up to $s$, and require that $P(t)$ satisfies the ODE exactly at distinct points $t_n+c_i\\Delta t$, which gives the following **collocation condition**:\n",
    "$$\n",
    "P^{\\prime}(t_i) = f(t_i,P(t_i)),\\quad t_i = t_n + c_i\\Delta t,\\quad i=1,\\cdots,s\n",
    "$$\n",
    "which can uniquely determine $a_{ij}$ and $b_i$ with the given quadrature points $c_i$."
   ]
  },
  {
   "cell_type": "markdown",
   "id": "c5b5536f",
   "metadata": {},
   "source": [
    "A convenient approach is to choose $c_i$ from strandard quadrature rules and solve the collocation condition to determine the remaining parameters, which leads to families of FIRK based on common numerical intergration rules."
   ]
  },
  {
   "cell_type": "markdown",
   "id": "57541540",
   "metadata": {},
   "source": [
    "#### Gauss Methods"
   ]
  },
  {
   "cell_type": "markdown",
   "id": "1d773911",
   "metadata": {},
   "source": [
    "If we choose $c_i$ as the Guass points, we obtain the Gauss methods, which are the most accurate methods for $s$ stages, achieving order $2s$. Since $P(t)$ is a ploynomial, we can use the Lagrangian interpolation to express its derivative:\n",
    "$$\n",
    "P^{\\prime}(t_n+\\tau\\Delta t) = \\sum_{j=1}^sl_j(\\tau)f(t_j,P(t_j)) = \\sum_{j=1}^sl_j(\\tau)k_j\n",
    "$$\n",
    "where $l_j$ is the Lagrangian basis function:\n",
    "$$\n",
    "l_j(\\tau) = \\prod_{m\\neq j}\\frac{\\tau-c_m}{c_j-c_m}\n",
    "$$\n",
    "The intergration of $P^{\\prime}(t)$ gives:\n",
    "$$\n",
    "P(t_n + \\tau\\Delta t) = P(t_n) + \\int_{t_n}^{t_n+\\tau\\Delta t}P^{\\prime}(t)dt\n",
    "$$\n",
    "Set $t = t_n + \\sigma\\Delta t$, we have\n",
    "$$\n",
    "P(t_n + \\tau\\Delta t) = u_n + \\Delta t\\int_{0}^{\\tau}P^{\\prime}(t_n+\\sigma\\Delta t)d\\sigma\n",
    "$$\n",
    "Substitute the expression of $P^{\\prime}(t_n+\\tau\\Delta t)$, we have:\n",
    "$$\n",
    "P(t_n + \\tau\\Delta t) = u_n + \\Delta t\\sum_{j=1}^sk_j\\int_{0}^{\\tau}l_j(\\sigma)d\\sigma\n",
    "$$\n",
    "Let $\\tau = c_i$, we have\n",
    "$$\n",
    "P(t_i) = P(t_n + c_i\\Delta t) = u_n + \\Delta t\\sum_{j=1}^sk_ja_{ij}\n",
    "$$\n",
    "where\n",
    "$$\n",
    "a_{ij} = \\int_{0}^{c_i}l_j(\\sigma)d\\sigma\n",
    "$$\n",
    "Let $\\tau=1$, we have\n",
    "$$\n",
    "u_{n+1} = P(t_n + \\Delta t) = u_n + \\Delta t\\sum_{j=1}^sk_jb_{j}\n",
    "$$\n",
    "where\n",
    "$$\n",
    "b_j = \\int_{0}^{1}l_j(\\sigma)d\\sigma\n",
    "$$\n",
    "> The Gauss methods are A-stable but not L-stable?"
   ]
  },
  {
   "cell_type": "markdown",
   "id": "bb0ea7bf",
   "metadata": {},
   "source": [
    "The single-stage Gauss method corresponds to the **implicit midpoint method**, and the fourth-order Gauss method with $s=2$ is defined by:\n",
    "$$\n",
    "\\begin{array}{c|cc}\n",
    "\\frac{3-\\sqrt{3}}{6}   & \\frac{1}{4} & \\frac{3-2\\sqrt{3}}{12} \\\\\n",
    "\\frac{3+\\sqrt{3}}{6}   & \\frac{3+2\\sqrt{3}}{12} & \\frac{1}{4} \\\\\n",
    "\\hline\n",
    " & \\frac{1}{2} & \\frac{1}{2}  \\\\\n",
    "\\end{array}\n",
    "$$"
   ]
  },
  {
   "cell_type": "markdown",
   "id": "fdcba1a9",
   "metadata": {},
   "source": [
    "#### Radau IIA methods"
   ]
  },
  {
   "cell_type": "markdown",
   "id": "9c2cd923",
   "metadata": {},
   "source": [
    "Another family of FIRK methods, known as Radau IIA methods, is more commonly employed to solve stiff stiff problems. The collocation points include Radau quadrature points and the right end of the integration interval ($c_s=1$). The singe-stage Radau IIA method is the **backward Euler method** and the two- and three-stage versions are given by:\n",
    "$$\n",
    "\\begin{array}{c|cc}\n",
    "\\frac{1}{3}   & \\frac{5}{12} & -\\frac{1}{12} \\\\\n",
    "1   & \\frac{3}{4} & \\frac{1}{4} \\\\\n",
    "\\hline\n",
    " & \\frac{3}{4} & \\frac{1}{4}  \\\\\n",
    "\\end{array}\n",
    "$$\n",
    "\n",
    "$$\n",
    "\\begin{array}{c|ccc}\n",
    "\\frac{4-\\sqrt{6}}{10} &  \\frac{88-7\\sqrt{6}}{360} & \\frac{296-169\\sqrt{6}}{1800} & \\frac{-2+3\\sqrt{6}}{225}\\\\\n",
    "\\frac{4+\\sqrt{6}}{10} & \\frac{296+169\\sqrt{6}}{1800} & \\frac{88+7\\sqrt{6}}{360} & \\frac{-2-3\\sqrt{6}}{225}\\\\\n",
    "1 & \\frac{16-\\sqrt{6}}{36} & \\frac{16+\\sqrt{6}}{36} & \\frac{1}{9} \\\\\n",
    "\\hline\n",
    " & \\frac{16-\\sqrt{6}}{36} & \\frac{16+\\sqrt{6}}{36} & \\frac{1}{9} \\\\\n",
    "\\end{array}\n",
    "$$\n",
    "The Radau IIA methods exhibit order $2s-1$, and their stability functions are $(s-1,s)$ Pade approximations of the exponential function. For the two- and three-stage methods, they are:\n",
    "$$\n",
    "R(z) = \\frac{1+z/3}{1-2z/3+z^2/6}\n",
    "$$\n",
    "$$\n",
    "R(z) = \\frac{1+2z/5+z^2/20}{1-3z/5+3z^2/20-z^2/60}\n",
    "$$"
   ]
  },
  {
   "cell_type": "markdown",
   "id": "ec891749",
   "metadata": {},
   "source": [
    "### Diagonally Implicit RK Methods"
   ]
  },
  {
   "cell_type": "markdown",
   "id": "a87d8352",
   "metadata": {},
   "source": [
    "**Diagonally Implicit RK (DIRK) methods**, also known as semi-implicit methods, are a subclass of implicit RK methods with $a_{ij}=0$ for all $j>i$. Since the stage derivative $k_i$ does not involve stages $k_{i+1}$, $k_{i+2}$ and so on, we can sequentially solve them one by one, which leads to $s$ systems of $m$ equations rather than solving one large $ms$ system."
   ]
  },
  {
   "cell_type": "markdown",
   "id": "5f24a950",
   "metadata": {},
   "source": [
    "A general DIRK method with $s$ stages has a maximum order of $s+1$ and methods optimized for stability typically have even lower order. "
   ]
  },
  {
   "cell_type": "markdown",
   "id": "4018b382",
   "metadata": {},
   "source": [
    "The Crank-Nicolson (implicit trapezoidal) method is an example of a DIRK method, which is not L-stable. An example of an L-stable, two-stage DIRK method of order 2 is give by:\n",
    "$$\n",
    "\\begin{array}{c|cc}\n",
    "\\gamma   & \\gamma & 0 \\\\\n",
    "1   & 1-\\gamma & \\gamma \\\\\n",
    "\\hline\n",
    " & 1-\\gamma & \\gamma  \\\\\n",
    "\\end{array}\n",
    "$$\n",
    "with stability function\n",
    "$$\n",
    "R(z) = \\frac{1+z(1-2\\gamma)}{(1-z\\gamma)^2}\n",
    "$$\n",
    "which is A-stable for $\\gamma>1/4$ and L-stable for $\\gamma=1\\pm\\sqrt{2}/2$. The most popular choice is $\\gamma=1-\\sqrt{2}/2\\approx0.293$ as it does not exceed the time interval."
   ]
  },
  {
   "cell_type": "markdown",
   "id": "c76e131b",
   "metadata": {},
   "source": [
    "Note that the two diagonal entries of $a_{ij}$ are identical. This kind of methods are known as **single diagonally implicit RK (SDIRK) methods**, and this particular structure can be utilized to implement a custom quasi-Newton solver to improve the computational performance."
   ]
  },
  {
   "cell_type": "markdown",
   "id": "cd5daf36",
   "metadata": {},
   "source": [
    "Another method class is the **explicit singly diagonally implicit RK (ESDIRK) methods**, which are simply SDIRK methods where the first stage is explicit. The simplest one is the implicit trapezoidal (Crank-Nicolson) method. A popular extension of this method is given by:\n",
    "$$\n",
    "\\begin{array}{c|ccc}\n",
    "0   & 0 &  \\\\\n",
    "2\\gamma   & \\gamma & \\gamma &0\\\\\n",
    "1   & \\beta & \\beta &\\gamma\\\\\n",
    "\\hline\n",
    " & \\beta & \\beta &\\gamma  \\\\\n",
    "\\end{array}\n",
    "$$\n",
    "where $\\gamma=1-\\sqrt{2}/2$ and $\\beta=\\sqrt{2}/4$. This methodand, known as TR-BDF2, can be interpreted as the sequential application of the trapezoidal method and a popular multistep solver called BDF2, which is second-order accurate and L-stable."
   ]
  },
  {
   "cell_type": "markdown",
   "id": "a4735164",
   "metadata": {},
   "source": [
    "## Implementing Higher Order IRK Methods"
   ]
  },
  {
   "cell_type": "markdown",
   "id": "159f1ff6",
   "metadata": {},
   "source": [
    "A base class for implicit RK methods can be defined as follows:"
   ]
  },
  {
   "cell_type": "code",
   "execution_count": 4,
   "id": "6d88ce91",
   "metadata": {},
   "outputs": [],
   "source": [
    "class ImplicitRK(ODESolver):\n",
    "    def solve_stages(self):\n",
    "        u, f, n, t = self.u, self.f, self.n, self.t\n",
    "        s = self.stages\n",
    "        k0 = f(t[n], u[n])\n",
    "        k0 = onp.tile(k0, s)\n",
    "\n",
    "        sol = root(self.stage_eq, k0)\n",
    "\n",
    "        return onp.split(sol.x, s)\n",
    "    \n",
    "    def stage_eq(self, k_all):\n",
    "        a, c = self.a, self.c\n",
    "        s, neq = self.stages, self.neq\n",
    "\n",
    "        u, f, n, t = self.u, self.f, self.n, self.t\n",
    "        dt = self.dt\n",
    "\n",
    "        res = onp.zeros_like(k_all)\n",
    "        k = onp.split(k_all, s)\n",
    "        for i in range(s):\n",
    "            fi = f(t[n] + c[i] * dt, u[n] + dt *\n",
    "                   sum([a[i, j] * k[j] for j in range(s)]))\n",
    "            res[i * neq:(i+1) * neq] = k[i] - fi\n",
    "        \n",
    "        return res\n",
    "    \n",
    "    def advance(self):\n",
    "        b = self.b\n",
    "        u, n, t = self.u, self.n, self.t\n",
    "        dt = self.dt\n",
    "        k = self.solve_stages()\n",
    "        return u[n] + dt * sum(b_ * k_ for b_, k_ in zip(b, k))\n",
    "        "
   ]
  },
  {
   "cell_type": "markdown",
   "id": "199e7dbb",
   "metadata": {},
   "source": [
    "Then we can implement new solvers by defining the method coefficients. The implicit midpoint and two- and three- stage Radau methods can be defined by:"
   ]
  },
  {
   "cell_type": "code",
   "execution_count": 5,
   "id": "2d798078",
   "metadata": {},
   "outputs": [],
   "source": [
    "class ImplicitMidpoint(ImplicitRK):\n",
    "    def __init__(self, f):\n",
    "        super().__init__(f)\n",
    "        self.stages = 1\n",
    "        self.a = onp.array([1/2])\n",
    "        self.c = onp.array([1/2])\n",
    "        self.b = onp.array([1.])\n",
    "\n",
    "\n",
    "class Radau2(ImplicitRK):\n",
    "    def __init__(self, f):\n",
    "        super().__init__(f)\n",
    "        self.stages = 2\n",
    "        self.a = onp.array([[5/12, -1/12],[3/4, 1/4]])\n",
    "        self.c = onp.array([1/3, 1.])\n",
    "        self.b = onp.array([3/4, 1/4])\n",
    "\n",
    "class Radau3(ImplicitRK):\n",
    "    def __init__(self, f):\n",
    "        super().__init__(f)\n",
    "        self.stages = 3\n",
    "        sq6 = onp.sqrt(6)\n",
    "        self.a = onp.array([\n",
    "            [(88 - 7 * sq6)/360, (296 - 169 * sq6)/1800, (-2 + 3 * sq6)/(225)], \n",
    "            [(296 + 169 * sq6)/1800, (88 + 7 * sq6)/360, (-2 - 3 * sq6)/(225)], \n",
    "            [(16 - sq6)/36, (16 + sq6)/36, 1/9]])\n",
    "        self.c = onp.array([(4 - sq6)/10, (4 + sq6)/10, 1])\n",
    "        self.b = onp.array([(16 - sq6)/36, (16 + sq6)/36, 1/9])"
   ]
  },
  {
   "cell_type": "markdown",
   "id": "b1e31a17",
   "metadata": {},
   "source": [
    "For the SDIRK and ESDIRK method ($a_{ij}=0$ for $j>i$), we can take advantage of the specific strcuture of the method coefficients and solve for the stage variables sequentially. In general, any stage equation for any **DIRK** method can be written as:\n",
    "$$\n",
    "k_i = f(t_n + c_i\\Delta t, u_n + \\Delta t(\\sum_{j=0}^{i-1}a_{ij}k_j + \\gamma k_i))\n",
    "$$\n",
    "Therefore, we have:"
   ]
  },
  {
   "cell_type": "code",
   "execution_count": 6,
   "id": "980489f8",
   "metadata": {},
   "outputs": [],
   "source": [
    "class SDIRK(ImplicitRK):\n",
    "    def stage_eq(self, k, c_i, k_sum):\n",
    "        u, f, n, t = self.u, self.f, self.n, self.t\n",
    "        dt = self.dt\n",
    "        gamma = self.gamma\n",
    "        return k - f(t[n] + c_i * dt, u[n] + dt * (k_sum + gamma * k))\n",
    "    \n",
    "    def solve_stages(self):\n",
    "        u, f, n, t = self.u, self.f, self.n, self.t\n",
    "        a, c = self.a, self.c\n",
    "        s = self.stages\n",
    "\n",
    "        k = f(t[n], u[n]) # initial guess for the first stage\n",
    "        k_sum = onp.zeros_like(k)\n",
    "        k_all = []\n",
    "        for i in range(s):\n",
    "            k_sum = sum(a_ * k_ for a_, k_ in zip(a[i, :i], k_all))\n",
    "            k = root(self.stage_eq, k, args=(c[i], k_sum)).x\n",
    "            k_all.append(k)\n",
    "        \n",
    "        return k_all"
   ]
  },
  {
   "cell_type": "markdown",
   "id": "c17be1eb",
   "metadata": {},
   "source": [
    "An implementation of the two-stage DIRK method can be written as:"
   ]
  },
  {
   "cell_type": "code",
   "execution_count": 7,
   "id": "8dc32ed7",
   "metadata": {},
   "outputs": [],
   "source": [
    "class SDIRK2(SDIRK):\n",
    "    def __init__(self, f):\n",
    "        super().__init__(f)\n",
    "        self.stages = 2\n",
    "        gamma = (2 - onp.sqrt(2))/2\n",
    "        self.gamma = gamma\n",
    "        self.a = onp.array([[gamma, 0],\n",
    "                            [1-gamma, gamma]])\n",
    "        self.c = onp.array([gamma, 1])\n",
    "        self.b = onp.array([1-gamma, gamma])"
   ]
  },
  {
   "cell_type": "markdown",
   "id": "441c52a3",
   "metadata": {},
   "source": [
    "An implementation of the ESDIRK method can be written as:"
   ]
  },
  {
   "cell_type": "code",
   "execution_count": 8,
   "id": "99dda6c4",
   "metadata": {},
   "outputs": [],
   "source": [
    "class ESDIRK(SDIRK):\n",
    "    def solve_stages(self):\n",
    "        u, f, n, t = self.u, self.f, self.n, self.t\n",
    "        a, c = self.a, self.c\n",
    "        s = self.stages\n",
    "\n",
    "        k = f(t[n], u[n]) \n",
    "        k_sum = onp.zeros_like(k)\n",
    "        k_all = [k]\n",
    "        for i in range(1, s):\n",
    "            k_sum = sum(a_ * k_ for a_, k_ in zip(a[i, :i], k_all))\n",
    "            k = root(self.stage_eq, k, args=(c[i], k_sum)).x\n",
    "            k_all.append(k)\n",
    "        \n",
    "        return k_all"
   ]
  },
  {
   "cell_type": "markdown",
   "id": "bbf8cdfa",
   "metadata": {},
   "source": [
    "An implementation of the TR-BDF2 method can be written as:"
   ]
  },
  {
   "cell_type": "code",
   "execution_count": 9,
   "id": "9f9c6f39",
   "metadata": {},
   "outputs": [],
   "source": [
    "class TR_BDF2(ESDIRK):\n",
    "    def __init__(self, f):\n",
    "        super().__init__(f)\n",
    "        self.stages = 3\n",
    "        gamma = 1 - onp.sqrt(2)/2\n",
    "        beta = onp.sqrt(2)/4\n",
    "        self.gamma = gamma\n",
    "        self.a = onp.array([[0, 0, 0],\n",
    "                            [gamma, gamma, 0],\n",
    "                            [beta, beta, gamma]])\n",
    "        self.c = onp.array([0, 2 * gamma, 1])\n",
    "        self.b = onp.array([beta, beta, gamma])"
   ]
  },
  {
   "cell_type": "markdown",
   "id": "a898022f",
   "metadata": {},
   "source": [
    "Solutions of the Van der Pol model for $\\mu=10$ and $\\Delta t=0.1$ using the above solvers are shown as follows:"
   ]
  },
  {
   "cell_type": "code",
   "execution_count": 10,
   "id": "b34465fd",
   "metadata": {},
   "outputs": [
    {
     "data": {
      "image/png": "[encoded data removed]",
      "text/plain": [
       "<Figure size 800x1200 with 6 Axes>"
      ]
     },
     "metadata": {},
     "output_type": "display_data"
    }
   ],
   "source": [
    "# initialization\n",
    "model = VanderPol(mu=10)\n",
    "solvers = [(BackwardEuler(model), \"Backward Euler\"),\n",
    "           (SDIRK2(model), \"SDIRK2\"),\n",
    "           (TR_BDF2(model), \"BDF-TR2\"),\n",
    "           (Radau2(model), \"Radau2\"),\n",
    "           (Radau3(model), \"Radau3\")]\n",
    "\n",
    "# setting\n",
    "T = 20\n",
    "t_span = (0, T)\n",
    "u0 = [1, 0]\n",
    "\n",
    "plt.figure(figsize=(8,12))\n",
    "num_subfigs = len(solvers) + 1\n",
    "# reference solution\n",
    "rtol = 1e-10\n",
    "solution = solve_ivp(model, t_span, u0, rtol=rtol)\n",
    "plt.subplot(num_subfigs, 1, 1)\n",
    "plt.plot(solution.t, solution.y[0, :])\n",
    "plt.plot(solution.t, solution.y[1, :])\n",
    "plt.title(\"Reference solution\")\n",
    "\n",
    "# Euler methods\n",
    "for i, info in enumerate(solvers):\n",
    "    solver, name = info\n",
    "    solver.set_initial_condition(u0)\n",
    "    N = 200\n",
    "    t, u = solver.solve(t_span=t_span, N=N)\n",
    "    plt.subplot(num_subfigs, 1, i+2)\n",
    "    plt.plot(t, u)\n",
    "    plt.title(f\"{name}, $\\\\Delta t$ = {T/N:g}\")\n",
    "plt.tight_layout() \n",
    "plt.show()"
   ]
  }
 ],
 "metadata": {
  "kernelspec": {
   "display_name": "jax-fem-env",
   "language": "python",
   "name": "python3"
  },
  "language_info": {
   "codemirror_mode": {
    "name": "ipython",
    "version": 3
   },
   "file_extension": ".py",
   "mimetype": "text/x-python",
   "name": "python",
   "nbconvert_exporter": "python",
   "pygments_lexer": "ipython3",
   "version": "3.9.18"
  }
 },
 "nbformat": 4,
 "nbformat_minor": 5
}
