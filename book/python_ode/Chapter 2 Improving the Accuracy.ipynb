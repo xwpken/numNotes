{
 "cells": [
  {
   "cell_type": "markdown",
   "id": "138f5509",
   "metadata": {},
   "source": [
    "# Chapter 2 Improving the Accuracy"
   ]
  },
  {
   "cell_type": "markdown",
   "id": "ea8d2033",
   "metadata": {},
   "source": [
    "*Editor: Weipeng Xu*\n",
    "\n",
    "*Last modified: 01/06/2025*\n",
    "\n",
    "*Reference: Sundnes, Joakim. Solving Ordinary Differential Equations in Python. Springer Nature, 2024.*"
   ]
  },
  {
   "cell_type": "markdown",
   "id": "38a7f6bf",
   "metadata": {},
   "source": [
    "For the ODE system:\n",
    "$$\n",
    "u^{\\prime}=f(t,u),\\quad u(t_0) = u_0\n",
    "$$\n",
    "another perspective to derive the solution scheme is to integrate both sides:\n",
    "$$\n",
    "\\int_{t_n}^{t^{n+1}}\\frac{du}{dt}dt = \\int_{t_n}^{t^{n+1}}f(t,u(t))dt\n",
    "$$\n",
    "which gives\n",
    "$$\n",
    "u(t_{n+1}) = u(t_n) + \\int_{t_n}^{t^{n+1}}f(t,u(t))dt\n",
    "$$\n",
    "where the computattion of the right hand side relies on numerical integration techiniques. The classical approach is to approximate the integrand funcition $f(t,u)$ with a ploynomial, which can be further classified into two categories:\n",
    "\n",
    "* **Multistep methods**: approximate $f(t,u)$ with a ploynomial that interpolates $f$ at **previous** time points, i.e., $f(t_{n-1},u_{n-1})$, $f(t_{n-2},u_{n-2})$...\n",
    "\n",
    "* **Runge-Kutta (RK) methods**: approximate $f(t,u)$ with a ploynomial that interpolates $f$ at **interval** time points within $t_n<t<t_{n+1}$"
   ]
  },
  {
   "cell_type": "markdown",
   "id": "24764a5b",
   "metadata": {},
   "source": [
    "## Explicit Runge-Kutta Methods"
   ]
  },
  {
   "cell_type": "markdown",
   "id": "39c5d127",
   "metadata": {},
   "source": [
    "All RK methods follow the same recipe:\n",
    "\n",
    "* Calculate one or more intermediate values (stage derivatives)\n",
    "\n",
    "* Advance the solution using a combination of these statge derivatives\n",
    "\n",
    "A general RK method with $s$ stages can be written as:\n",
    "\n",
    "$$\n",
    "\\begin{aligned}\n",
    "&k_i = f(t_n + c_i\\Delta t, u_n + \\Delta t\\sum_{j=1}^s a_{ij}k_j),\\quad i=1,\\cdots,s\\\\\n",
    "&u_{n+1} = n_n + \\Delta t\\sum_{i=1}^sb_ik_i\n",
    "\\end{aligned}\n",
    "$$\n",
    "where $c, b, a$ are coefficients specific to the method. Different RK methods can be uniquely determined by the number of stages $s$ and the values of the coefficients."
   ]
  },
  {
   "cell_type": "markdown",
   "id": "31b53b2e",
   "metadata": {
    "vscode": {
     "languageId": "plaintext"
    }
   },
   "source": [
    "Some principles should be satisified for the above coefficients:\n",
    "\n",
    "* $\\sum_{i=1}^sb_i=1$ (approximmate the integral as a weighted sum)\n",
    "\n",
    "* $c_i = \\sum_{j=1}^sa_{ij}$ (not necessary but can interpretate $k_i$ approximations of $f(t,u)$ at $t_n + c_i\\Delta t$)"
   ]
  },
  {
   "cell_type": "markdown",
   "id": "bf35b302",
   "metadata": {},
   "source": [
    "The **Butcher tableau** provides a concise representation of any RK method, which specifies all the method coefficients:\n",
    "$$\n",
    "\\begin{array}{c|ccc}\n",
    "c_1 & a_{11} & \\cdots & a_{1s} \\\\\n",
    "\\vdots & \\vdots & \\ddots & \\vdots \\\\\n",
    "c_s & a_{s1} & \\cdots & a_{ss} \\\\\n",
    "\\hline\n",
    " & b_1 & \\cdots & b_s \\\\\n",
    "\\end{array}\n",
    "$$"
   ]
  },
  {
   "cell_type": "markdown",
   "id": "f9281b27",
   "metadata": {},
   "source": [
    "In this chapter, we exclusively consider explicit RK methods, which means that $a_{ij}=0$ for $j\\geq i$. Following are several examples:\n",
    "\n",
    "* Forward Euler Method (1-order)\n",
    "\n",
    "$$\n",
    "\\begin{array}{c|cc}\n",
    "0 & 0 \\\\ \\hline\n",
    " & 1 \\\\\n",
    "\\end{array}\n",
    "$$"
   ]
  },
  {
   "cell_type": "markdown",
   "id": "5843ee8d",
   "metadata": {},
   "source": [
    "$$\n",
    "\\begin{aligned}\n",
    "    &k_1 = f(t_n, u_n)\\\\\n",
    "    &u_{n+1} = u_n + \\Delta tk_1\n",
    "\\end{aligned}\n",
    "$$"
   ]
  },
  {
   "cell_type": "markdown",
   "id": "07489591",
   "metadata": {},
   "source": [
    "* Explicit Mid-point Method (2-order)\n",
    "\n",
    "$$\n",
    "\\begin{array}{c|cc}\n",
    "0   & 0 & 0 \\\\\n",
    "\\frac{1}{2}   & \\frac{1}{2} & 0 \\\\\n",
    "\\hline\n",
    " & 0 & 1  \\\\\n",
    "\\end{array}\n",
    "$$"
   ]
  },
  {
   "cell_type": "markdown",
   "id": "b33ef687",
   "metadata": {},
   "source": [
    "$$\n",
    "\\begin{aligned}\n",
    "&k_1 = f(t_n, u_n)\\\\\n",
    "&k_2 = f(t_n+\\frac{1}{2}\\Delta t, u_n + \\frac{1}{2}\\Delta tk_1)\\\\\n",
    "&u_{n+1} = u_n + \\Delta tk_2\n",
    "\\end{aligned}\n",
    "$$"
   ]
  },
  {
   "cell_type": "markdown",
   "id": "68806977",
   "metadata": {},
   "source": [
    "* Heun's Method/Explicit Trapezoidal Method (2-order)\n",
    "\n",
    "$$\n",
    "\\begin{array}{c|cc}\n",
    "0   & 0 & 0 \\\\\n",
    "1   & 1 & 0 \\\\\n",
    "\\hline\n",
    " & \\frac{1}{2} & \\frac{1}{2}  \\\\\n",
    "\\end{array}\n",
    "$$"
   ]
  },
  {
   "cell_type": "markdown",
   "id": "0dbb03e0",
   "metadata": {},
   "source": [
    "$$\n",
    "\\begin{aligned}\n",
    "&k_1 = f(t_n, u_n)\\\\\n",
    "&k_2 = f(t_n + \\Delta t, u_n + \\Delta tk_1)\\\\\n",
    "&u_{n+1} = u_n + \\frac{1}{2}\\Delta t\\left(k_1+k_2\\right)\n",
    "\\end{aligned}\n",
    "$$"
   ]
  },
  {
   "cell_type": "markdown",
   "id": "8d8d2a3d",
   "metadata": {},
   "source": [
    "* Fourth-order & Four-stage RK Method/RK4\n",
    "\n",
    "$$\n",
    "\\begin{array}{c|cccc}\n",
    "0   & 0 & 0 &0 & 0\\\\\n",
    "\\frac{1}{2}   & \\frac{1}{2} & 0 & 0 &0 \\\\\n",
    "\\frac{1}{2}   & 0 & \\frac{1}{2} & 0 & 0\\\\\n",
    "1   & 0 & 0 & 1 & 0\\\\\n",
    "\\hline\n",
    " & \\frac{1}{6} & \\frac{1}{3} &\\frac{1}{3} &\\frac{1}{6} \\\\\n",
    "\\end{array}\n",
    "$$"
   ]
  },
  {
   "cell_type": "markdown",
   "id": "8b0a5fd0",
   "metadata": {},
   "source": [
    "$$\n",
    "\\begin{aligned}\n",
    "&k_1 = f(t_n,u_n)\\\\\n",
    "&k_2 = f(t_n + \\frac{1}{2}\\Delta t, u_n + \\frac{1}{2}\\Delta tk_1)\\\\\n",
    "&k_3 = f(t_n+\\frac{1}{2}\\Delta t, u_n+\\frac{1}{2}\\Delta tk_2)\\\\\n",
    "&k_4 = f(t_n + \\Delta t, u_n + \\Delta tk_3)\\\\\n",
    "& u_{n+1} = u_n + \\frac{1}{6}\\Delta t\\left(k_1 + 2k_2 + 2k_3 + k_4\\right)\n",
    "\\end{aligned}\n",
    "$$"
   ]
  },
  {
   "cell_type": "markdown",
   "id": "c759f5db",
   "metadata": {},
   "source": [
    "## A Class Hierarchy of Runge-Kutta Methods"
   ]
  },
  {
   "cell_type": "markdown",
   "id": "61a750cb",
   "metadata": {},
   "source": [
    "The base class (superclass) can be written as:"
   ]
  },
  {
   "cell_type": "code",
   "execution_count": 9,
   "id": "44271947",
   "metadata": {},
   "outputs": [],
   "source": [
    "import numpy as onp\n",
    "\n",
    "class ODESolver:\n",
    "\n",
    "    def __init__(self,f):\n",
    "        self.model = f\n",
    "        self.f = lambda t,u: onp.asarray(f(t,u), dtype=float)\n",
    "\n",
    "    def set_initial_condition(self, u0):\n",
    "        self.u0 = onp.asarray(u0, dtype=float)\n",
    "\n",
    "    def solve(self, t_span, N):\n",
    "        t0, T = t_span\n",
    "        self.dt = (T-t0)/N\n",
    "        self.t = onp.zeros((N+1, 1))\n",
    "        self.u = onp.zeros((N+1, self.u0.size))\n",
    "\n",
    "        msg = \"Please set initial condition before calling solve\"\n",
    "        assert hasattr(self, \"u0\"), msg\n",
    "\n",
    "        self.t[0] = t0\n",
    "        self.u[0] = self.u0\n",
    "\n",
    "        for n in range(N):\n",
    "            self.n = n\n",
    "            self.t[n+1] = self.t[n] + self.dt\n",
    "            self.u[n+1] = self.advance()\n",
    "        \n",
    "        return self.t, self.u\n",
    "    \n",
    "    def advance(self):\n",
    "        raise NotImplementedError(\"Advance method is not implemented in the based class\")\n"
   ]
  },
  {
   "cell_type": "markdown",
   "id": "7d032398",
   "metadata": {},
   "source": [
    "The implementation of FE, explicit midpoint method, and RK4 can be very straightforward:"
   ]
  },
  {
   "cell_type": "code",
   "execution_count": 10,
   "id": "3a66e242",
   "metadata": {},
   "outputs": [],
   "source": [
    "class ForwardEuler(ODESolver):\n",
    "    def advance(self):\n",
    "        u, f, n, t = self.u, self.f, self.n, self.t\n",
    "        dt = self.dt\n",
    "        return u[n] + dt * f(t[n], u[n])"
   ]
  },
  {
   "cell_type": "code",
   "execution_count": 11,
   "id": "adde1fe1",
   "metadata": {},
   "outputs": [],
   "source": [
    "class ExpliictMidpoint(ODESolver):\n",
    "    def advance(self):\n",
    "        u, f, n, t = self.u, self.f, self.n, self.t\n",
    "        dt = self.dt\n",
    "        k1 = f(t[n], u[n])\n",
    "        k2 = f(t[n] + dt/2., u[n] + dt/2.*k1)\n",
    "        return u[n] + dt * k2"
   ]
  },
  {
   "cell_type": "code",
   "execution_count": 12,
   "id": "f9580e4b",
   "metadata": {},
   "outputs": [],
   "source": [
    "class Henu(ODESolver):\n",
    "    def advance(self):\n",
    "        u, f, n, t = self.u, self.f, self.n, self.t\n",
    "        dt = self.dt\n",
    "        k1 = f(t[n], u[n])\n",
    "        k2 = f(t[n] + dt, u[n] + dt * k1)\n",
    "        return u[n] + dt/2. * (k1 + k2)"
   ]
  },
  {
   "cell_type": "code",
   "execution_count": 13,
   "id": "33098076",
   "metadata": {},
   "outputs": [],
   "source": [
    "class RungeKutta4(ODESolver):\n",
    "    def advance(self):\n",
    "        u, f, n, t = self.u, self.f, self.n, self.t\n",
    "        dt = self.dt\n",
    "        k1 = f(t[n], u[n])\n",
    "        k2 = f(t[n] + dt/2., u[n] + dt/2.*k1)\n",
    "        k3 = f(t[n] + dt/2., u[n] + dt/2.*k2)\n",
    "        k4 = f(t[n] + dt, u[n] + dt*k3)\n",
    "        return u[n] + 1/6. * dt * (k1 + 2*k2 + 2*k3 + k4)"
   ]
  },
  {
   "cell_type": "markdown",
   "id": "6fb35f6f",
   "metadata": {},
   "source": [
    "Consider the simple ODE:\n",
    "$$\n",
    "\\begin{aligned}\n",
    "    &u^{\\prime} = u\\\\\n",
    "    &u(0) = 1\n",
    "\\end{aligned}\n",
    "$$"
   ]
  },
  {
   "cell_type": "code",
   "execution_count": 14,
   "id": "e2a47f4b",
   "metadata": {},
   "outputs": [
    {
     "data": {
      "image/png": "[encoded data removed]",
      "text/plain": [
       "<Figure size 640x480 with 1 Axes>"
      ]
     },
     "metadata": {},
     "output_type": "display_data"
    }
   ],
   "source": [
    "import numpy as onp\n",
    "import matplotlib.pyplot as plt\n",
    "\n",
    "# ODE\n",
    "f = lambda t,u: u\n",
    "\n",
    "# analytical\n",
    "def exact(t):\n",
    "    return onp.exp(t)\n",
    "\n",
    "# time steps\n",
    "t_span = (0, 3)\n",
    "N = 6\n",
    "\n",
    "# initialize the solver\n",
    "fe = ForwardEuler(f)\n",
    "em = ExpliictMidpoint(f)\n",
    "he = Henu(f)\n",
    "rk4 = RungeKutta4(f)\n",
    "\n",
    "# solve & postprocess\n",
    "for solver in [fe, em, rk4]:\n",
    "    solver.set_initial_condition(u0=1)\n",
    "    t, u = solver.solve(t_span, N)\n",
    "    plt.plot(t, u , label=solver.__class__.__name__)\n",
    "t_exact = onp.linspace(t_span[0], t_span[1], 301)\n",
    "plt.plot(t_exact, exact(t_exact), label='Exact')\n",
    "plt.title('RK solvers for exponential growth, $\\\\Delta t=0.5$')\n",
    "plt.xlabel('$t$')\n",
    "plt.ylabel('$u(t)$')\n",
    "plt.legend()\n",
    "plt.show()"
   ]
  },
  {
   "cell_type": "markdown",
   "id": "0a20a967",
   "metadata": {},
   "source": [
    "## Testing the Solvers"
   ]
  },
  {
   "cell_type": "code",
   "execution_count": 15,
   "id": "5ee0a609",
   "metadata": {},
   "outputs": [
    {
     "name": "stdout",
     "output_type": "stream",
     "text": [
      "ForwardEuler, order=1\n",
      "Time step (dt)  Error(e)      e/dt**1\n",
      "0.1000000       2.6361347     26.3613\n",
      "0.0500000       1.4063510     28.1270\n",
      "0.0250000       0.7273871     29.0955\n",
      "0.0125000       0.3700434     29.6035\n",
      "0.0062500       0.1866483     29.8637\n",
      "0.0031250       0.0937359     29.9955\n",
      "0.0015625       0.0469715     30.0618\n",
      "0.0007813       0.0235117     30.0950\n",
      "0.0003906       0.0117624     30.1116\n",
      "0.0001953       0.0058828     30.1200\n",
      "ExpliictMidpoint, order=2\n",
      "Time step (dt)  Error(e)      e/dt**2\n",
      "0.1000000       0.0929800     9.2980\n",
      "0.0500000       0.0241697     9.6679\n",
      "0.0250000       0.0061593     9.8548\n",
      "0.0125000       0.0015545     9.9487\n",
      "0.0062500       0.0003905     9.9957\n",
      "0.0031250       0.0000978     10.0192\n",
      "0.0015625       0.0000245     10.0310\n",
      "0.0007813       0.0000061     10.0369\n",
      "0.0003906       0.0000015     10.0398\n",
      "0.0001953       0.0000004     10.0413\n",
      "Henu, order=2\n",
      "Time step (dt)  Error(e)      e/dt**2\n",
      "0.1000000       0.0929800     9.2980\n",
      "0.0500000       0.0241697     9.6679\n",
      "0.0250000       0.0061593     9.8548\n",
      "0.0125000       0.0015545     9.9487\n",
      "0.0062500       0.0003905     9.9957\n",
      "0.0031250       0.0000978     10.0192\n",
      "0.0015625       0.0000245     10.0310\n",
      "0.0007813       0.0000061     10.0369\n",
      "0.0003906       0.0000015     10.0398\n",
      "0.0001953       0.0000004     10.0413\n",
      "RungeKutta4, order=4\n",
      "Time step (dt)  Error(e)      e/dt**4\n",
      "0.1000000       0.0000462     0.4620\n",
      "0.0500000       0.0000030     0.4817\n",
      "0.0250000       0.0000002     0.4918\n",
      "0.0125000       0.0000000     0.4969\n",
      "0.0062500       0.0000000     0.4995\n",
      "0.0031250       0.0000000     0.5006\n",
      "0.0015625       0.0000000     0.5025\n",
      "0.0007813       0.0000000     0.5436\n",
      "0.0003906       0.0000000     5.1880\n",
      "0.0001953       0.0000000     102.5391\n"
     ]
    }
   ],
   "source": [
    "solver_classes = [ForwardEuler, ExpliictMidpoint, Henu, RungeKutta4]\n",
    "orders = [1,2,2,4]\n",
    "for solver_class, order in zip(solver_classes, orders):\n",
    "\n",
    "    solver = solver_class(f)\n",
    "    solver.set_initial_condition(u0=1.0)\n",
    "\n",
    "    print(f'{solver_class.__name__}, order={order}')\n",
    "    print(f'Time step (dt)  Error(e)      e/dt**{order}')\n",
    "\n",
    "    N = 30\n",
    "    for _ in range(10):\n",
    "        t, u = solver.solve(t_span, N)\n",
    "        dt = (t_span[1]-t_span[0]) / N\n",
    "        e = abs(u[-1] - exact(t_span[-1])).item()\n",
    "        # break if error is close to machine precision\n",
    "        if e < 1e-13:\n",
    "            break\n",
    "        print(f'{dt:<14.7f}  {e:<12.7f}  {e/dt**order:5.4f}')\n",
    "        N = N * 2"
   ]
  },
  {
   "cell_type": "markdown",
   "id": "bbbe49f4",
   "metadata": {},
   "source": [
    "We can also consider an even simpler ODE:\n",
    "$$\n",
    "u^{\\prime}(t) = f(t,u) = C\n",
    "$$\n",
    "with analytical solution as:\n",
    "$$\n",
    "u(t) = Ct + u_0\n",
    "$$\n",
    "where $u_0$ is the initial solution. All the methods discussed will capture this solution to machine precison."
   ]
  },
  {
   "cell_type": "code",
   "execution_count": 16,
   "id": "562915e3",
   "metadata": {},
   "outputs": [
    {
     "name": "stdout",
     "output_type": "stream",
     "text": [
      "All solvers pass the test!\n"
     ]
    }
   ],
   "source": [
    "# parameters\n",
    "C = 0.2\n",
    "u0 = 3\n",
    "\n",
    "# ODE\n",
    "f = lambda t,u: C\n",
    "\n",
    "# analytical\n",
    "def exact(t):\n",
    "    return C * t + u0\n",
    "\n",
    "# test\n",
    "u0 = exact(0)\n",
    "t_span = (0, 8)\n",
    "N = 10\n",
    "tol = 1e-14\n",
    "for solver_class in solver_classes:\n",
    "    solver = solver_class(f)\n",
    "    solver.set_initial_condition(u0)\n",
    "    t, u = solver.solve(t_span, N)\n",
    "    ue = exact(t)\n",
    "    max_error = abs((ue-u)).max()\n",
    "    msg = f'{solver_class.__name__} failed, error={max_error}'\n",
    "    assert max_error < tol, msg\n",
    "print(\"All solvers pass the test!\")"
   ]
  }
 ],
 "metadata": {
  "kernelspec": {
   "display_name": "jax-fem-env",
   "language": "python",
   "name": "python3"
  },
  "language_info": {
   "codemirror_mode": {
    "name": "ipython",
    "version": 3
   },
   "file_extension": ".py",
   "mimetype": "text/x-python",
   "name": "python",
   "nbconvert_exporter": "python",
   "pygments_lexer": "ipython3",
   "version": "3.9.18"
  }
 },
 "nbformat": 4,
 "nbformat_minor": 5
}
