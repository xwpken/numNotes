{
 "cells": [
  {
   "cell_type": "markdown",
   "id": "0aefe90d-0977-4f72-882d-4a1cde3d51da",
   "metadata": {},
   "source": [
    "# 逻辑回归"
   ]
  },
  {
   "cell_type": "markdown",
   "id": "195e41ba-2c39-4e62-a176-a541e6945b3f",
   "metadata": {},
   "source": [
    "逻辑回归是一种用于解决二分类问题的统计学习方法，其核心思想是通过一个*sigmoid*函数将线性回归的输出映射到$[0,1]$区间，表示样本属于正分类的概率。"
   ]
  },
  {
   "cell_type": "markdown",
   "id": "76d9a937-430c-4453-9140-732ab926b99b",
   "metadata": {},
   "source": [
    "## 数学模型"
   ]
  },
  {
   "cell_type": "markdown",
   "id": "9f240ea8-a175-4311-bc72-82e50b2969b2",
   "metadata": {},
   "source": [
    "假设数据集由$N$个样本组成，$D=\\{(\\boldsymbol{x}_i,y_i)\\}_{i=1}^N$，其中$\\boldsymbol{x}_i\\in\\mathbb{R}^d$为特征向量，$y_i\\in\\{0,1\\}$为二分类标签。逻辑回归模型主要包含以下两部分："
   ]
  },
  {
   "cell_type": "markdown",
   "id": "bf98ca28-b0e7-4912-86a4-e5658e7ff3ab",
   "metadata": {},
   "source": [
    "* 线性预测值\n",
    "\n",
    "$$\n",
    "z_i = \\boldsymbol{w}^T\\boldsymbol{x}_i + b\n",
    "$$\n",
    "\n",
    "其中 $\\boldsymbol{w}\\in\\mathbb{R}^d$为权重向量，$b\\in\\mathbb{R}$为偏置项。\n",
    "\n",
    "* 概率映射 （sigmoid函数）：\n",
    "  \n",
    "$$\n",
    "\\hat{y}_i=P(y_i=1|\\boldsymbol{x}_i) = \\sigma(z_i) = \\frac{1}{1+e^{-z_i}}\\in(0,1)\n",
    "$$\n",
    "\n",
    "其中 $\\hat{y}_i=\\sigma(\\boldsymbol{w}^T\\boldsymbol{x}_i+b)$ 表示样本属于正分类的概率"
   ]
  },
  {
   "cell_type": "markdown",
   "id": "0a7bf877",
   "metadata": {},
   "source": [
    "## 交叉熵损失"
   ]
  },
  {
   "cell_type": "markdown",
   "id": "19bdfabe",
   "metadata": {},
   "source": [
    "逻辑回归的目标函数被定义为如下的平均交叉损失熵\n",
    "$$\n",
    "L = -\\frac{1}{N}\\sum_{i=1}^N[y_i\\log\\hat{y}_i + (1-y_i)\\log(1-\\hat{y}_i)]\n",
    "$$"
   ]
  },
  {
   "cell_type": "markdown",
   "id": "07c5280f",
   "metadata": {},
   "source": [
    "逻辑回归对每个样本的预测是一个**伯努利分布**，其概率质量函数可以表达为：\n",
    "$$\n",
    "P(y_i|\\boldsymbol{x}_i;\\boldsymbol{w},b) = \\hat{y}_i^{y_i}(1-\\hat{y}_i)^{(1-y_i)}\n",
    "$$\n",
    "假设样本独立同分布，真实标签的联合概率是各样本概率的乘积，从而得到如下的似然函数：\n",
    "$$\n",
    "L(\\boldsymbol{w},b) = \\prod_{i=1}^N\\hat{y}_i^{y_i}(1-\\hat{y}_i)^{(1-y_i)}\n",
    "$$\n",
    "为了得到使得联合概率最大的模型参数，逻辑回归采用**极大似然估计**，即最大化似然函数 $L$。实践中往往采用最小化平均的负对数似然，即上述的平均交叉熵损失。"
   ]
  },
  {
   "cell_type": "markdown",
   "id": "06338b9e",
   "metadata": {},
   "source": [
    "## PyTorch实战"
   ]
  },
  {
   "cell_type": "markdown",
   "id": "c1c2e68b",
   "metadata": {},
   "source": [
    "下面我们使用威斯康星州乳腺癌数据集来进行逻辑回归实战"
   ]
  },
  {
   "cell_type": "code",
   "execution_count": 77,
   "id": "5f97ac2a",
   "metadata": {},
   "outputs": [],
   "source": [
    "import torch\n",
    "import torch.nn as nn"
   ]
  },
  {
   "cell_type": "code",
   "execution_count": 78,
   "id": "3c1387b4",
   "metadata": {},
   "outputs": [],
   "source": [
    "from sklearn.datasets import load_breast_cancer\n",
    "from sklearn.model_selection import train_test_split\n",
    "from sklearn.preprocessing import StandardScaler"
   ]
  },
  {
   "cell_type": "code",
   "execution_count": 79,
   "id": "61987c64",
   "metadata": {},
   "outputs": [],
   "source": [
    "import matplotlib.pyplot as plt"
   ]
  },
  {
   "cell_type": "code",
   "execution_count": 80,
   "id": "ac3b1138",
   "metadata": {},
   "outputs": [
    {
     "name": "stdout",
     "output_type": "stream",
     "text": [
      "(569, 30) (569,)\n"
     ]
    }
   ],
   "source": [
    "# 加载数据集\n",
    "data = load_breast_cancer()\n",
    "X, y  = data.data, data.target\n",
    "print(X.shape, y.shape)"
   ]
  },
  {
   "cell_type": "code",
   "execution_count": 81,
   "id": "8908d406",
   "metadata": {},
   "outputs": [],
   "source": [
    "# 划分训练集和测试集\n",
    "X_train, X_test, y_train, y_test = train_test_split(X, y, test_size=0.2, random_state=42)\n",
    "\n",
    "# 标准化数据\n",
    "scaler = StandardScaler()\n",
    "X_train = scaler.fit_transform(X_train)\n",
    "X_test = scaler.transform(X_test)\n",
    "\n",
    "# 转化为PyTorch张量格式\n",
    "X_train, y_train, X_test, y_test = [torch.tensor(data, dtype=torch.float32) for data in [X_train, y_train, X_test, y_test]]\n",
    "y_train = torch.reshape(y_train,(-1,1))\n",
    "y_test = torch.reshape(y_test,(-1,1))"
   ]
  },
  {
   "cell_type": "code",
   "execution_count": 82,
   "id": "a4b1e594",
   "metadata": {},
   "outputs": [],
   "source": [
    "# 模型定义\n",
    "class logistic_regression(nn.Module):\n",
    "    def __init__(self, input_dim):\n",
    "        super().__init__()\n",
    "        self.linear = nn.Linear(input_dim, 1)\n",
    "    \n",
    "    def forward(self, x):\n",
    "        return torch.sigmoid(self.linear(x))\n",
    "\n",
    "input_dim = X_train.shape[1]\n",
    "model = logistic_regression(input_dim)"
   ]
  },
  {
   "cell_type": "code",
   "execution_count": 83,
   "id": "f18244f7",
   "metadata": {},
   "outputs": [
    {
     "name": "stdout",
     "output_type": "stream",
     "text": [
      "Epoch 000, Test Acc:8.859649e-01\n",
      "Epoch 100, Test Acc:9.912280e-01\n",
      "Epoch 200, Test Acc:9.912280e-01\n",
      "Epoch 300, Test Acc:9.912280e-01\n",
      "Epoch 400, Test Acc:9.912280e-01\n",
      "Epoch 500, Test Acc:9.824561e-01\n",
      "Epoch 600, Test Acc:9.824561e-01\n",
      "Epoch 700, Test Acc:9.824561e-01\n",
      "Epoch 800, Test Acc:9.824561e-01\n",
      "Epoch 900, Test Acc:9.824561e-01\n"
     ]
    }
   ],
   "source": [
    "# 训练配置\n",
    "loss_fn = nn.BCELoss()\n",
    "optimizer = torch.optim.SGD(model.parameters(), lr=0.01, momentum=0.9)\n",
    "\n",
    "train_losses = []\n",
    "for epoch in range(1000):\n",
    "\n",
    "    # 前向传播\n",
    "    outputs = model(X_train)\n",
    "    loss = loss_fn(outputs, y_train)\n",
    "    train_losses.append(loss.item())\n",
    "\n",
    "    # 反向传播\n",
    "    optimizer.zero_grad()\n",
    "    loss.backward()\n",
    "    optimizer.step()\n",
    "\n",
    "    # 验证\n",
    "    if epoch % 100 == 0:\n",
    "        with torch.no_grad():\n",
    "            preds = (model(X_test) > 0.5).float()\n",
    "            acc = (preds == y_test).float().mean()\n",
    "            print(f\"Epoch {epoch:03d}, Test Acc:{acc:.6e}\")"
   ]
  },
  {
   "cell_type": "code",
   "execution_count": 84,
   "id": "9007ddae",
   "metadata": {},
   "outputs": [
    {
     "data": {
      "image/png": "[encoded data removed]",
      "text/plain": [
       "<Figure size 800x600 with 1 Axes>"
      ]
     },
     "metadata": {},
     "output_type": "display_data"
    }
   ],
   "source": [
    "plt.figure(figsize=(8, 6))\n",
    "plt.plot(train_losses, label='Train Loss')\n",
    "plt.legend()\n",
    "plt.show()"
   ]
  },
  {
   "cell_type": "code",
   "execution_count": null,
   "id": "83aa9afe",
   "metadata": {},
   "outputs": [],
   "source": []
  }
 ],
 "metadata": {
  "kernelspec": {
   "display_name": "jax-fem-env",
   "language": "python",
   "name": "python3"
  },
  "language_info": {
   "codemirror_mode": {
    "name": "ipython",
    "version": 3
   },
   "file_extension": ".py",
   "mimetype": "text/x-python",
   "name": "python",
   "nbconvert_exporter": "python",
   "pygments_lexer": "ipython3",
   "version": "3.9.18"
  }
 },
 "nbformat": 4,
 "nbformat_minor": 5
}
