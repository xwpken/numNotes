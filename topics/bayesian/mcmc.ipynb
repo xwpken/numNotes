{
 "cells": [
  {
   "cell_type": "markdown",
   "id": "ad59ace6",
   "metadata": {},
   "source": [
    "# Markov Chain Monte Carlo (MCMC) Sampling"
   ]
  },
  {
   "cell_type": "markdown",
   "id": "3a9e2512",
   "metadata": {},
   "source": [
    "> Editor: Weipeng Xu\n",
    "> \n",
    "> Last modified: 31/07/2025"
   ]
  },
  {
   "cell_type": "markdown",
   "id": "098c0322",
   "metadata": {},
   "source": [
    "## Markov Chain"
   ]
  },
  {
   "cell_type": "markdown",
   "id": "2cd1b34c",
   "metadata": {},
   "source": [
    "## References\n"
   ]
  },
  {
   "cell_type": "markdown",
   "id": "64ae5139",
   "metadata": {},
   "source": [
    "1. Betancourt, Michael. \"A conceptual introduction to Hamiltonian Monte Carlo.\" arXiv preprint arXiv:1701.02434 (2017).\n",
    "2. https://www.georgeho.org/bayesian-inference-reading/\n",
    "3. https://colindcarroll.com/blog/hmc_from_scratch.html"
   ]
  }
 ],
 "metadata": {
  "language_info": {
   "name": "python"
  }
 },
 "nbformat": 4,
 "nbformat_minor": 5
}
