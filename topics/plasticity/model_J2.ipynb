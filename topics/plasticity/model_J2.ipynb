{
 "cells": [
  {
   "cell_type": "markdown",
   "id": "b95522ca",
   "metadata": {},
   "source": [
    "# J2-plasticity model"
   ]
  },
  {
   "cell_type": "markdown",
   "id": "db0c83de",
   "metadata": {},
   "source": [
    "*Editor: Weipeng Xu*\n",
    "\n",
    "*Last modified: 24/06/2025*\n",
    "\n",
    "*Reference: https://github.com/deepmodeling/jax-fem/tree/main/demos/plasticity*"
   ]
  },
  {
   "cell_type": "markdown",
   "id": "1813ac35",
   "metadata": {},
   "source": [
    "The governing equations are given by:\n",
    "$$\n",
    "\\begin{aligned}\n",
    "&\\nabla\\cdot\\boldsymbol{\\sigma} + \\boldsymbol{b} = 0,\\quad\\text{in }\\Omega\\\\\n",
    "&\\boldsymbol{\\sigma}\\cdot\\boldsymbol{n} = \\boldsymbol{t},\\quad\\text{on }\\Gamma_t\\\\\n",
    "&u = \\bar{u},\\quad\\text{on }\\Gamma_u\n",
    "\\end{aligned}\n",
    "$$\n",
    "\n",
    "In J2-plasticity model, we consider the small deformation assumption and divide the strain into elastic and plastic parts:\n",
    "$$\n",
    "\\boldsymbol{\\varepsilon} = \\boldsymbol{\\varepsilon}^e + \\boldsymbol{\\varepsilon}^p\n",
    "$$\n",
    "and the yielding is only determined by the deviatoric stress:\n",
    "$$\n",
    "\\boldsymbol{s} = \\boldsymbol{\\sigma} - p\\boldsymbol{I} = \\boldsymbol{\\sigma} - \\frac{1}{3}\\text{tr}(\\boldsymbol{\\sigma})\\boldsymbol{I}\n",
    "$$\n",
    "where $p$ is the hydrostatic/spherical stress. The Von Mises yielding rule is defined as:\n",
    "$$\n",
    "f = \\sqrt{3J_2}-\\sigma_{\\text{yield}}\\leq 0\n",
    "$$\n",
    "where $J_2$ is the second deviatoric stress invariant:\n",
    "$$\n",
    "J_2 = \\frac{1}{2}\\boldsymbol{s}:\\boldsymbol{s}\n",
    "$$"
   ]
  }
 ],
 "metadata": {
  "kernelspec": {
   "display_name": "jax-fem-env",
   "language": "python",
   "name": "python3"
  },
  "language_info": {
   "name": "python",
   "version": "3.9.18"
  }
 },
 "nbformat": 4,
 "nbformat_minor": 5
}
